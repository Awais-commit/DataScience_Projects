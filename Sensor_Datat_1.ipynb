{
  "nbformat": 4,
  "nbformat_minor": 0,
  "metadata": {
    "colab": {
      "name": "Sensor_Datat_1.ipynb",
      "provenance": []
    },
    "kernelspec": {
      "name": "python3",
      "display_name": "Python 3"
    },
    "language_info": {
      "name": "python"
    }
  },
  "cells": [
    {
      "cell_type": "code",
      "metadata": {
        "id": "khbaYVuWwoWW"
      },
      "source": [
        "import numpy as np\n",
        "import pandas as pd\n",
        "import matplotlib.pyplot as plt\n",
        "import matplotlib\n",
        "\n",
        "import matplotlib.pyplot as plt\n",
        "import seaborn as sns\n",
        "%matplotlib inline"
      ],
      "execution_count": 2,
      "outputs": []
    },
    {
      "cell_type": "code",
      "metadata": {
        "colab": {
          "base_uri": "https://localhost:8080/"
        },
        "id": "MKiLjFfwxBk8",
        "outputId": "aa25a445-4e31-4c83-beba-dad9e9fcf30b"
      },
      "source": [
        "from google.colab import drive\n",
        "drive.mount('/content/drive')"
      ],
      "execution_count": 3,
      "outputs": [
        {
          "output_type": "stream",
          "name": "stdout",
          "text": [
            "Mounted at /content/drive\n"
          ]
        }
      ]
    },
    {
      "cell_type": "code",
      "metadata": {
        "id": "GfrwJwV1x-5J"
      },
      "source": [
        "cp /content/drive/MyDrive/Colab_Notebooks/ML_Work/Ihsan_DataAnalytics/monitor_mode.CSV ."
      ],
      "execution_count": 4,
      "outputs": []
    },
    {
      "cell_type": "code",
      "metadata": {
        "colab": {
          "base_uri": "https://localhost:8080/"
        },
        "id": "dRoA6F8J1OFF",
        "outputId": "d54d1ec1-bc31-4e16-ad5e-95e8299672f4"
      },
      "source": [
        "ls"
      ],
      "execution_count": 5,
      "outputs": [
        {
          "output_type": "stream",
          "name": "stdout",
          "text": [
            "\u001b[0m\u001b[01;34mdrive\u001b[0m/  monitor_mode.CSV  \u001b[01;34msample_data\u001b[0m/\n"
          ]
        }
      ]
    },
    {
      "cell_type": "code",
      "metadata": {
        "id": "Nwp9JwPNw4dY"
      },
      "source": [
        "df = pd.read_csv('monitor_mode.CSV')"
      ],
      "execution_count": 6,
      "outputs": []
    },
    {
      "cell_type": "code",
      "metadata": {
        "colab": {
          "base_uri": "https://localhost:8080/",
          "height": 206
        },
        "id": "J02ehCRDyy_M",
        "outputId": "b28c692d-8da9-4d47-b7f6-f3d28baf72b1"
      },
      "source": [
        "df.head()"
      ],
      "execution_count": 7,
      "outputs": [
        {
          "output_type": "execute_result",
          "data": {
            "text/html": [
              "<div>\n",
              "<style scoped>\n",
              "    .dataframe tbody tr th:only-of-type {\n",
              "        vertical-align: middle;\n",
              "    }\n",
              "\n",
              "    .dataframe tbody tr th {\n",
              "        vertical-align: top;\n",
              "    }\n",
              "\n",
              "    .dataframe thead th {\n",
              "        text-align: right;\n",
              "    }\n",
              "</style>\n",
              "<table border=\"1\" class=\"dataframe\">\n",
              "  <thead>\n",
              "    <tr style=\"text-align: right;\">\n",
              "      <th></th>\n",
              "      <th>Time</th>\n",
              "      <th>Conc(mg/m3)</th>\n",
              "      <th>Flow(lpm)</th>\n",
              "      <th>AT(C)</th>\n",
              "      <th>RH(%)</th>\n",
              "      <th>BP(mbar)</th>\n",
              "      <th>Unnamed: 6</th>\n",
              "    </tr>\n",
              "  </thead>\n",
              "  <tbody>\n",
              "    <tr>\n",
              "      <th>0</th>\n",
              "      <td>2021-09-20 10:40:32</td>\n",
              "      <td>0.078</td>\n",
              "      <td>2</td>\n",
              "      <td>36.7</td>\n",
              "      <td>38</td>\n",
              "      <td>948.8</td>\n",
              "      <td>NaN</td>\n",
              "    </tr>\n",
              "    <tr>\n",
              "      <th>1</th>\n",
              "      <td>2021-09-20 10:40:42</td>\n",
              "      <td>0.077</td>\n",
              "      <td>2</td>\n",
              "      <td>36.8</td>\n",
              "      <td>38</td>\n",
              "      <td>948.4</td>\n",
              "      <td>NaN</td>\n",
              "    </tr>\n",
              "    <tr>\n",
              "      <th>2</th>\n",
              "      <td>2021-09-20 10:40:52</td>\n",
              "      <td>0.077</td>\n",
              "      <td>2</td>\n",
              "      <td>36.7</td>\n",
              "      <td>38</td>\n",
              "      <td>949.1</td>\n",
              "      <td>NaN</td>\n",
              "    </tr>\n",
              "    <tr>\n",
              "      <th>3</th>\n",
              "      <td>2021-09-20 10:41:02</td>\n",
              "      <td>0.081</td>\n",
              "      <td>2</td>\n",
              "      <td>36.8</td>\n",
              "      <td>38</td>\n",
              "      <td>948.8</td>\n",
              "      <td>NaN</td>\n",
              "    </tr>\n",
              "    <tr>\n",
              "      <th>4</th>\n",
              "      <td>2021-09-20 10:41:12</td>\n",
              "      <td>0.075</td>\n",
              "      <td>2</td>\n",
              "      <td>36.8</td>\n",
              "      <td>38</td>\n",
              "      <td>948.5</td>\n",
              "      <td>NaN</td>\n",
              "    </tr>\n",
              "  </tbody>\n",
              "</table>\n",
              "</div>"
            ],
            "text/plain": [
              "                  Time  Conc(mg/m3)  Flow(lpm)  ...  RH(%)  BP(mbar)  Unnamed: 6\n",
              "0  2021-09-20 10:40:32        0.078          2  ...     38     948.8         NaN\n",
              "1  2021-09-20 10:40:42        0.077          2  ...     38     948.4         NaN\n",
              "2  2021-09-20 10:40:52        0.077          2  ...     38     949.1         NaN\n",
              "3  2021-09-20 10:41:02        0.081          2  ...     38     948.8         NaN\n",
              "4  2021-09-20 10:41:12        0.075          2  ...     38     948.5         NaN\n",
              "\n",
              "[5 rows x 7 columns]"
            ]
          },
          "metadata": {},
          "execution_count": 7
        }
      ]
    },
    {
      "cell_type": "code",
      "metadata": {
        "colab": {
          "base_uri": "https://localhost:8080/"
        },
        "id": "N1o7JN2T1W7I",
        "outputId": "d0afe9fe-43a9-41be-8913-91ab77d5dd92"
      },
      "source": [
        "df.columns"
      ],
      "execution_count": 8,
      "outputs": [
        {
          "output_type": "execute_result",
          "data": {
            "text/plain": [
              "Index(['Time', 'Conc(mg/m3)', 'Flow(lpm)', 'AT(C)', 'RH(%)', 'BP(mbar)',\n",
              "       'Unnamed: 6'],\n",
              "      dtype='object')"
            ]
          },
          "metadata": {},
          "execution_count": 8
        }
      ]
    },
    {
      "cell_type": "code",
      "metadata": {
        "colab": {
          "base_uri": "https://localhost:8080/"
        },
        "id": "e7Ir8JkGR2V1",
        "outputId": "d1df0e0c-a1d5-4ec8-d35c-9964f628d0a1"
      },
      "source": [
        "type(df['Time'].iloc[0])"
      ],
      "execution_count": 9,
      "outputs": [
        {
          "output_type": "execute_result",
          "data": {
            "text/plain": [
              "str"
            ]
          },
          "metadata": {},
          "execution_count": 9
        }
      ]
    },
    {
      "cell_type": "code",
      "metadata": {
        "id": "nEZvxEGPTGQh"
      },
      "source": [
        "df['Time'] = pd.to_datetime(df['Time'])"
      ],
      "execution_count": 10,
      "outputs": []
    },
    {
      "cell_type": "code",
      "metadata": {
        "colab": {
          "base_uri": "https://localhost:8080/"
        },
        "id": "w5SYGxc2TR6x",
        "outputId": "8f31dc71-ac2e-464a-d392-6011dd4fb146"
      },
      "source": [
        "time = df['Time'].iloc[0]\n",
        "time.hour\n",
        "#time.year\n",
        "#time.day_name()"
      ],
      "execution_count": 12,
      "outputs": [
        {
          "output_type": "execute_result",
          "data": {
            "text/plain": [
              "10"
            ]
          },
          "metadata": {},
          "execution_count": 12
        }
      ]
    },
    {
      "cell_type": "code",
      "metadata": {
        "colab": {
          "base_uri": "https://localhost:8080/"
        },
        "id": "xvP50t2lT0qv",
        "outputId": "52906ab7-9716-4b73-fcac-ef8e29c8f036"
      },
      "source": [
        "df['Time'].iloc[0]"
      ],
      "execution_count": 113,
      "outputs": [
        {
          "output_type": "execute_result",
          "data": {
            "text/plain": [
              "Timestamp('2021-09-20 10:40:32')"
            ]
          },
          "metadata": {},
          "execution_count": 113
        }
      ]
    },
    {
      "cell_type": "code",
      "metadata": {
        "id": "SmJM7YQjS1Fn"
      },
      "source": [
        "df['Hour'] = df['Time'].apply(lambda time: time.hour)\n",
        "df['Month'] = df['Time'].apply(lambda time: time.month)\n",
        "df['Day of Week'] = df['Time'].apply(lambda time: time.dayofweek)"
      ],
      "execution_count": 13,
      "outputs": []
    },
    {
      "cell_type": "code",
      "metadata": {
        "colab": {
          "base_uri": "https://localhost:8080/",
          "height": 206
        },
        "id": "4lJhWSM7T994",
        "outputId": "9d7af0f5-58c3-4a61-99e8-90eea0d9bad6"
      },
      "source": [
        "df.head()"
      ],
      "execution_count": 14,
      "outputs": [
        {
          "output_type": "execute_result",
          "data": {
            "text/html": [
              "<div>\n",
              "<style scoped>\n",
              "    .dataframe tbody tr th:only-of-type {\n",
              "        vertical-align: middle;\n",
              "    }\n",
              "\n",
              "    .dataframe tbody tr th {\n",
              "        vertical-align: top;\n",
              "    }\n",
              "\n",
              "    .dataframe thead th {\n",
              "        text-align: right;\n",
              "    }\n",
              "</style>\n",
              "<table border=\"1\" class=\"dataframe\">\n",
              "  <thead>\n",
              "    <tr style=\"text-align: right;\">\n",
              "      <th></th>\n",
              "      <th>Time</th>\n",
              "      <th>Conc(mg/m3)</th>\n",
              "      <th>Flow(lpm)</th>\n",
              "      <th>AT(C)</th>\n",
              "      <th>RH(%)</th>\n",
              "      <th>BP(mbar)</th>\n",
              "      <th>Unnamed: 6</th>\n",
              "      <th>Hour</th>\n",
              "      <th>Month</th>\n",
              "      <th>Day of Week</th>\n",
              "    </tr>\n",
              "  </thead>\n",
              "  <tbody>\n",
              "    <tr>\n",
              "      <th>0</th>\n",
              "      <td>2021-09-20 10:40:32</td>\n",
              "      <td>0.078</td>\n",
              "      <td>2</td>\n",
              "      <td>36.7</td>\n",
              "      <td>38</td>\n",
              "      <td>948.8</td>\n",
              "      <td>NaN</td>\n",
              "      <td>10</td>\n",
              "      <td>9</td>\n",
              "      <td>0</td>\n",
              "    </tr>\n",
              "    <tr>\n",
              "      <th>1</th>\n",
              "      <td>2021-09-20 10:40:42</td>\n",
              "      <td>0.077</td>\n",
              "      <td>2</td>\n",
              "      <td>36.8</td>\n",
              "      <td>38</td>\n",
              "      <td>948.4</td>\n",
              "      <td>NaN</td>\n",
              "      <td>10</td>\n",
              "      <td>9</td>\n",
              "      <td>0</td>\n",
              "    </tr>\n",
              "    <tr>\n",
              "      <th>2</th>\n",
              "      <td>2021-09-20 10:40:52</td>\n",
              "      <td>0.077</td>\n",
              "      <td>2</td>\n",
              "      <td>36.7</td>\n",
              "      <td>38</td>\n",
              "      <td>949.1</td>\n",
              "      <td>NaN</td>\n",
              "      <td>10</td>\n",
              "      <td>9</td>\n",
              "      <td>0</td>\n",
              "    </tr>\n",
              "    <tr>\n",
              "      <th>3</th>\n",
              "      <td>2021-09-20 10:41:02</td>\n",
              "      <td>0.081</td>\n",
              "      <td>2</td>\n",
              "      <td>36.8</td>\n",
              "      <td>38</td>\n",
              "      <td>948.8</td>\n",
              "      <td>NaN</td>\n",
              "      <td>10</td>\n",
              "      <td>9</td>\n",
              "      <td>0</td>\n",
              "    </tr>\n",
              "    <tr>\n",
              "      <th>4</th>\n",
              "      <td>2021-09-20 10:41:12</td>\n",
              "      <td>0.075</td>\n",
              "      <td>2</td>\n",
              "      <td>36.8</td>\n",
              "      <td>38</td>\n",
              "      <td>948.5</td>\n",
              "      <td>NaN</td>\n",
              "      <td>10</td>\n",
              "      <td>9</td>\n",
              "      <td>0</td>\n",
              "    </tr>\n",
              "  </tbody>\n",
              "</table>\n",
              "</div>"
            ],
            "text/plain": [
              "                 Time  Conc(mg/m3)  Flow(lpm)  ...  Hour  Month  Day of Week\n",
              "0 2021-09-20 10:40:32        0.078          2  ...    10      9            0\n",
              "1 2021-09-20 10:40:42        0.077          2  ...    10      9            0\n",
              "2 2021-09-20 10:40:52        0.077          2  ...    10      9            0\n",
              "3 2021-09-20 10:41:02        0.081          2  ...    10      9            0\n",
              "4 2021-09-20 10:41:12        0.075          2  ...    10      9            0\n",
              "\n",
              "[5 rows x 10 columns]"
            ]
          },
          "metadata": {},
          "execution_count": 14
        }
      ]
    },
    {
      "cell_type": "code",
      "metadata": {
        "colab": {
          "base_uri": "https://localhost:8080/",
          "height": 206
        },
        "id": "9q3507giT953",
        "outputId": "d1018dc8-3457-4a8e-c7b8-6f082ea529d6"
      },
      "source": [
        "dmap = {0:'Mon',1:'Tue',2:'Wed',3:'Thu',4:'Fri',5:'Sat',6:'Sun'}\n",
        "df['Day of Week'] = df['Day of Week'].map(dmap)\n",
        "df.head()"
      ],
      "execution_count": 16,
      "outputs": [
        {
          "output_type": "execute_result",
          "data": {
            "text/html": [
              "<div>\n",
              "<style scoped>\n",
              "    .dataframe tbody tr th:only-of-type {\n",
              "        vertical-align: middle;\n",
              "    }\n",
              "\n",
              "    .dataframe tbody tr th {\n",
              "        vertical-align: top;\n",
              "    }\n",
              "\n",
              "    .dataframe thead th {\n",
              "        text-align: right;\n",
              "    }\n",
              "</style>\n",
              "<table border=\"1\" class=\"dataframe\">\n",
              "  <thead>\n",
              "    <tr style=\"text-align: right;\">\n",
              "      <th></th>\n",
              "      <th>Time</th>\n",
              "      <th>Conc(mg/m3)</th>\n",
              "      <th>Flow(lpm)</th>\n",
              "      <th>AT(C)</th>\n",
              "      <th>RH(%)</th>\n",
              "      <th>BP(mbar)</th>\n",
              "      <th>Unnamed: 6</th>\n",
              "      <th>Hour</th>\n",
              "      <th>Month</th>\n",
              "      <th>Day of Week</th>\n",
              "    </tr>\n",
              "  </thead>\n",
              "  <tbody>\n",
              "    <tr>\n",
              "      <th>0</th>\n",
              "      <td>2021-09-20 10:40:32</td>\n",
              "      <td>0.078</td>\n",
              "      <td>2</td>\n",
              "      <td>36.7</td>\n",
              "      <td>38</td>\n",
              "      <td>948.8</td>\n",
              "      <td>NaN</td>\n",
              "      <td>10</td>\n",
              "      <td>9</td>\n",
              "      <td>NaN</td>\n",
              "    </tr>\n",
              "    <tr>\n",
              "      <th>1</th>\n",
              "      <td>2021-09-20 10:40:42</td>\n",
              "      <td>0.077</td>\n",
              "      <td>2</td>\n",
              "      <td>36.8</td>\n",
              "      <td>38</td>\n",
              "      <td>948.4</td>\n",
              "      <td>NaN</td>\n",
              "      <td>10</td>\n",
              "      <td>9</td>\n",
              "      <td>NaN</td>\n",
              "    </tr>\n",
              "    <tr>\n",
              "      <th>2</th>\n",
              "      <td>2021-09-20 10:40:52</td>\n",
              "      <td>0.077</td>\n",
              "      <td>2</td>\n",
              "      <td>36.7</td>\n",
              "      <td>38</td>\n",
              "      <td>949.1</td>\n",
              "      <td>NaN</td>\n",
              "      <td>10</td>\n",
              "      <td>9</td>\n",
              "      <td>NaN</td>\n",
              "    </tr>\n",
              "    <tr>\n",
              "      <th>3</th>\n",
              "      <td>2021-09-20 10:41:02</td>\n",
              "      <td>0.081</td>\n",
              "      <td>2</td>\n",
              "      <td>36.8</td>\n",
              "      <td>38</td>\n",
              "      <td>948.8</td>\n",
              "      <td>NaN</td>\n",
              "      <td>10</td>\n",
              "      <td>9</td>\n",
              "      <td>NaN</td>\n",
              "    </tr>\n",
              "    <tr>\n",
              "      <th>4</th>\n",
              "      <td>2021-09-20 10:41:12</td>\n",
              "      <td>0.075</td>\n",
              "      <td>2</td>\n",
              "      <td>36.8</td>\n",
              "      <td>38</td>\n",
              "      <td>948.5</td>\n",
              "      <td>NaN</td>\n",
              "      <td>10</td>\n",
              "      <td>9</td>\n",
              "      <td>NaN</td>\n",
              "    </tr>\n",
              "  </tbody>\n",
              "</table>\n",
              "</div>"
            ],
            "text/plain": [
              "                 Time  Conc(mg/m3)  Flow(lpm)  ...  Hour  Month  Day of Week\n",
              "0 2021-09-20 10:40:32        0.078          2  ...    10      9          NaN\n",
              "1 2021-09-20 10:40:42        0.077          2  ...    10      9          NaN\n",
              "2 2021-09-20 10:40:52        0.077          2  ...    10      9          NaN\n",
              "3 2021-09-20 10:41:02        0.081          2  ...    10      9          NaN\n",
              "4 2021-09-20 10:41:12        0.075          2  ...    10      9          NaN\n",
              "\n",
              "[5 rows x 10 columns]"
            ]
          },
          "metadata": {},
          "execution_count": 16
        }
      ]
    },
    {
      "cell_type": "code",
      "metadata": {
        "colab": {
          "base_uri": "https://localhost:8080/",
          "height": 296
        },
        "id": "BRgHo7rVT9pI",
        "outputId": "69ac4c1f-f36a-4373-8368-3f3d7560969f"
      },
      "source": [
        "sns.countplot(x='Hour',data=df,hue='RH(%)', palette='viridis')\n",
        "\n",
        "\n",
        "# To relocate the legend\n",
        "plt.legend(bbox_to_anchor=(1.05, 1), loc=2, borderaxespad=0.)\n"
      ],
      "execution_count": 19,
      "outputs": [
        {
          "output_type": "execute_result",
          "data": {
            "text/plain": [
              "<matplotlib.legend.Legend at 0x7ff3c522a610>"
            ]
          },
          "metadata": {},
          "execution_count": 19
        },
        {
          "output_type": "display_data",
          "data": {
            "image/png": "[encoded data removed]",
            "text/plain": [
              "<Figure size 432x288 with 1 Axes>"
            ]
          },
          "metadata": {
            "needs_background": "light"
          }
        }
      ]
    },
    {
      "cell_type": "code",
      "metadata": {
        "colab": {
          "base_uri": "https://localhost:8080/",
          "height": 424
        },
        "id": "_XT6RCj9VdyW",
        "outputId": "ca750955-9ebc-4ae5-88e1-877b12d5784f"
      },
      "source": [
        "#dayHour = df.groupby(by = ['Hour', 'Flow(lpm)'])\n",
        "#dayHour.head(20)"
      ],
      "execution_count": 97,
      "outputs": [
        {
          "output_type": "execute_result",
          "data": {
            "text/html": [
              "<div>\n",
              "<style scoped>\n",
              "    .dataframe tbody tr th:only-of-type {\n",
              "        vertical-align: middle;\n",
              "    }\n",
              "\n",
              "    .dataframe tbody tr th {\n",
              "        vertical-align: top;\n",
              "    }\n",
              "\n",
              "    .dataframe thead th {\n",
              "        text-align: right;\n",
              "    }\n",
              "</style>\n",
              "<table border=\"1\" class=\"dataframe\">\n",
              "  <thead>\n",
              "    <tr style=\"text-align: right;\">\n",
              "      <th></th>\n",
              "      <th>Time</th>\n",
              "      <th>Conc(mg/m3)</th>\n",
              "      <th>Flow(lpm)</th>\n",
              "      <th>AT(C)</th>\n",
              "      <th>RH(%)</th>\n",
              "      <th>BP(mbar)</th>\n",
              "      <th>Unnamed: 6</th>\n",
              "      <th>Hour</th>\n",
              "      <th>Month</th>\n",
              "      <th>Day of Week</th>\n",
              "    </tr>\n",
              "  </thead>\n",
              "  <tbody>\n",
              "    <tr>\n",
              "      <th>0</th>\n",
              "      <td>2021-09-20 10:40:32</td>\n",
              "      <td>0.078</td>\n",
              "      <td>2</td>\n",
              "      <td>36.7</td>\n",
              "      <td>38</td>\n",
              "      <td>948.8</td>\n",
              "      <td>NaN</td>\n",
              "      <td>10</td>\n",
              "      <td>9</td>\n",
              "      <td>Mon</td>\n",
              "    </tr>\n",
              "    <tr>\n",
              "      <th>1</th>\n",
              "      <td>2021-09-20 10:40:42</td>\n",
              "      <td>0.077</td>\n",
              "      <td>2</td>\n",
              "      <td>36.8</td>\n",
              "      <td>38</td>\n",
              "      <td>948.4</td>\n",
              "      <td>NaN</td>\n",
              "      <td>10</td>\n",
              "      <td>9</td>\n",
              "      <td>Mon</td>\n",
              "    </tr>\n",
              "    <tr>\n",
              "      <th>2</th>\n",
              "      <td>2021-09-20 10:40:52</td>\n",
              "      <td>0.077</td>\n",
              "      <td>2</td>\n",
              "      <td>36.7</td>\n",
              "      <td>38</td>\n",
              "      <td>949.1</td>\n",
              "      <td>NaN</td>\n",
              "      <td>10</td>\n",
              "      <td>9</td>\n",
              "      <td>Mon</td>\n",
              "    </tr>\n",
              "    <tr>\n",
              "      <th>3</th>\n",
              "      <td>2021-09-20 10:41:02</td>\n",
              "      <td>0.081</td>\n",
              "      <td>2</td>\n",
              "      <td>36.8</td>\n",
              "      <td>38</td>\n",
              "      <td>948.8</td>\n",
              "      <td>NaN</td>\n",
              "      <td>10</td>\n",
              "      <td>9</td>\n",
              "      <td>Mon</td>\n",
              "    </tr>\n",
              "    <tr>\n",
              "      <th>4</th>\n",
              "      <td>2021-09-20 10:41:12</td>\n",
              "      <td>0.075</td>\n",
              "      <td>2</td>\n",
              "      <td>36.8</td>\n",
              "      <td>38</td>\n",
              "      <td>948.5</td>\n",
              "      <td>NaN</td>\n",
              "      <td>10</td>\n",
              "      <td>9</td>\n",
              "      <td>Mon</td>\n",
              "    </tr>\n",
              "    <tr>\n",
              "      <th>...</th>\n",
              "      <td>...</td>\n",
              "      <td>...</td>\n",
              "      <td>...</td>\n",
              "      <td>...</td>\n",
              "      <td>...</td>\n",
              "      <td>...</td>\n",
              "      <td>...</td>\n",
              "      <td>...</td>\n",
              "      <td>...</td>\n",
              "      <td>...</td>\n",
              "    </tr>\n",
              "    <tr>\n",
              "      <th>1724</th>\n",
              "      <td>2021-09-20 16:02:41</td>\n",
              "      <td>0.030</td>\n",
              "      <td>2</td>\n",
              "      <td>30.8</td>\n",
              "      <td>34</td>\n",
              "      <td>944.8</td>\n",
              "      <td>NaN</td>\n",
              "      <td>16</td>\n",
              "      <td>9</td>\n",
              "      <td>Mon</td>\n",
              "    </tr>\n",
              "    <tr>\n",
              "      <th>1725</th>\n",
              "      <td>2021-09-20 16:02:51</td>\n",
              "      <td>0.032</td>\n",
              "      <td>2</td>\n",
              "      <td>30.8</td>\n",
              "      <td>34</td>\n",
              "      <td>945.0</td>\n",
              "      <td>NaN</td>\n",
              "      <td>16</td>\n",
              "      <td>9</td>\n",
              "      <td>Mon</td>\n",
              "    </tr>\n",
              "    <tr>\n",
              "      <th>1726</th>\n",
              "      <td>2021-09-20 16:03:01</td>\n",
              "      <td>0.027</td>\n",
              "      <td>2</td>\n",
              "      <td>30.7</td>\n",
              "      <td>34</td>\n",
              "      <td>945.1</td>\n",
              "      <td>NaN</td>\n",
              "      <td>16</td>\n",
              "      <td>9</td>\n",
              "      <td>Mon</td>\n",
              "    </tr>\n",
              "    <tr>\n",
              "      <th>1727</th>\n",
              "      <td>2021-09-20 16:03:11</td>\n",
              "      <td>0.025</td>\n",
              "      <td>2</td>\n",
              "      <td>30.7</td>\n",
              "      <td>34</td>\n",
              "      <td>944.9</td>\n",
              "      <td>NaN</td>\n",
              "      <td>16</td>\n",
              "      <td>9</td>\n",
              "      <td>Mon</td>\n",
              "    </tr>\n",
              "    <tr>\n",
              "      <th>1728</th>\n",
              "      <td>2021-09-20 16:03:21</td>\n",
              "      <td>0.026</td>\n",
              "      <td>2</td>\n",
              "      <td>30.6</td>\n",
              "      <td>34</td>\n",
              "      <td>944.9</td>\n",
              "      <td>NaN</td>\n",
              "      <td>16</td>\n",
              "      <td>9</td>\n",
              "      <td>Mon</td>\n",
              "    </tr>\n",
              "  </tbody>\n",
              "</table>\n",
              "<p>140 rows × 10 columns</p>\n",
              "</div>"
            ],
            "text/plain": [
              "                    Time  Conc(mg/m3)  Flow(lpm)  ...  Hour  Month  Day of Week\n",
              "0    2021-09-20 10:40:32        0.078          2  ...    10      9          Mon\n",
              "1    2021-09-20 10:40:42        0.077          2  ...    10      9          Mon\n",
              "2    2021-09-20 10:40:52        0.077          2  ...    10      9          Mon\n",
              "3    2021-09-20 10:41:02        0.081          2  ...    10      9          Mon\n",
              "4    2021-09-20 10:41:12        0.075          2  ...    10      9          Mon\n",
              "...                  ...          ...        ...  ...   ...    ...          ...\n",
              "1724 2021-09-20 16:02:41        0.030          2  ...    16      9          Mon\n",
              "1725 2021-09-20 16:02:51        0.032          2  ...    16      9          Mon\n",
              "1726 2021-09-20 16:03:01        0.027          2  ...    16      9          Mon\n",
              "1727 2021-09-20 16:03:11        0.025          2  ...    16      9          Mon\n",
              "1728 2021-09-20 16:03:21        0.026          2  ...    16      9          Mon\n",
              "\n",
              "[140 rows x 10 columns]"
            ]
          },
          "metadata": {},
          "execution_count": 97
        }
      ]
    },
    {
      "cell_type": "code",
      "metadata": {
        "colab": {
          "base_uri": "https://localhost:8080/",
          "height": 363
        },
        "id": "2RsMUTktfWjx",
        "outputId": "36cdfbd5-cb03-45ea-d6d0-5f3b87df29cd"
      },
      "source": [
        "df.tail(10)"
      ],
      "execution_count": 122,
      "outputs": [
        {
          "output_type": "execute_result",
          "data": {
            "text/html": [
              "<div>\n",
              "<style scoped>\n",
              "    .dataframe tbody tr th:only-of-type {\n",
              "        vertical-align: middle;\n",
              "    }\n",
              "\n",
              "    .dataframe tbody tr th {\n",
              "        vertical-align: top;\n",
              "    }\n",
              "\n",
              "    .dataframe thead th {\n",
              "        text-align: right;\n",
              "    }\n",
              "</style>\n",
              "<table border=\"1\" class=\"dataframe\">\n",
              "  <thead>\n",
              "    <tr style=\"text-align: right;\">\n",
              "      <th></th>\n",
              "      <th>Time</th>\n",
              "      <th>Conc(mg/m3)</th>\n",
              "      <th>Flow(lpm)</th>\n",
              "      <th>AT(C)</th>\n",
              "      <th>RH(%)</th>\n",
              "      <th>BP(mbar)</th>\n",
              "      <th>Unnamed: 6</th>\n",
              "      <th>Hour</th>\n",
              "      <th>Month</th>\n",
              "      <th>Day of Week</th>\n",
              "    </tr>\n",
              "  </thead>\n",
              "  <tbody>\n",
              "    <tr>\n",
              "      <th>1727</th>\n",
              "      <td>2021-09-20 16:03:11</td>\n",
              "      <td>0.025</td>\n",
              "      <td>2</td>\n",
              "      <td>30.7</td>\n",
              "      <td>34</td>\n",
              "      <td>944.9</td>\n",
              "      <td>NaN</td>\n",
              "      <td>16</td>\n",
              "      <td>9</td>\n",
              "      <td>Mon</td>\n",
              "    </tr>\n",
              "    <tr>\n",
              "      <th>1728</th>\n",
              "      <td>2021-09-20 16:03:21</td>\n",
              "      <td>0.026</td>\n",
              "      <td>2</td>\n",
              "      <td>30.6</td>\n",
              "      <td>34</td>\n",
              "      <td>944.9</td>\n",
              "      <td>NaN</td>\n",
              "      <td>16</td>\n",
              "      <td>9</td>\n",
              "      <td>Mon</td>\n",
              "    </tr>\n",
              "    <tr>\n",
              "      <th>1729</th>\n",
              "      <td>2021-09-20 16:03:31</td>\n",
              "      <td>0.032</td>\n",
              "      <td>2</td>\n",
              "      <td>30.6</td>\n",
              "      <td>34</td>\n",
              "      <td>944.7</td>\n",
              "      <td>NaN</td>\n",
              "      <td>16</td>\n",
              "      <td>9</td>\n",
              "      <td>Mon</td>\n",
              "    </tr>\n",
              "    <tr>\n",
              "      <th>1730</th>\n",
              "      <td>2021-09-20 16:03:41</td>\n",
              "      <td>0.029</td>\n",
              "      <td>2</td>\n",
              "      <td>30.5</td>\n",
              "      <td>34</td>\n",
              "      <td>945.0</td>\n",
              "      <td>NaN</td>\n",
              "      <td>16</td>\n",
              "      <td>9</td>\n",
              "      <td>Mon</td>\n",
              "    </tr>\n",
              "    <tr>\n",
              "      <th>1731</th>\n",
              "      <td>2021-09-20 16:03:51</td>\n",
              "      <td>0.029</td>\n",
              "      <td>2</td>\n",
              "      <td>30.5</td>\n",
              "      <td>34</td>\n",
              "      <td>944.8</td>\n",
              "      <td>NaN</td>\n",
              "      <td>16</td>\n",
              "      <td>9</td>\n",
              "      <td>Mon</td>\n",
              "    </tr>\n",
              "    <tr>\n",
              "      <th>1732</th>\n",
              "      <td>2021-09-20 16:04:01</td>\n",
              "      <td>0.031</td>\n",
              "      <td>2</td>\n",
              "      <td>30.5</td>\n",
              "      <td>34</td>\n",
              "      <td>944.9</td>\n",
              "      <td>NaN</td>\n",
              "      <td>16</td>\n",
              "      <td>9</td>\n",
              "      <td>Mon</td>\n",
              "    </tr>\n",
              "    <tr>\n",
              "      <th>1733</th>\n",
              "      <td>2021-09-20 16:04:21</td>\n",
              "      <td>0.029</td>\n",
              "      <td>2</td>\n",
              "      <td>30.4</td>\n",
              "      <td>34</td>\n",
              "      <td>944.8</td>\n",
              "      <td>NaN</td>\n",
              "      <td>16</td>\n",
              "      <td>9</td>\n",
              "      <td>Mon</td>\n",
              "    </tr>\n",
              "    <tr>\n",
              "      <th>1734</th>\n",
              "      <td>2021-09-20 16:04:31</td>\n",
              "      <td>0.030</td>\n",
              "      <td>2</td>\n",
              "      <td>30.4</td>\n",
              "      <td>34</td>\n",
              "      <td>945.1</td>\n",
              "      <td>NaN</td>\n",
              "      <td>16</td>\n",
              "      <td>9</td>\n",
              "      <td>Mon</td>\n",
              "    </tr>\n",
              "    <tr>\n",
              "      <th>1735</th>\n",
              "      <td>2021-09-20 16:04:41</td>\n",
              "      <td>0.028</td>\n",
              "      <td>2</td>\n",
              "      <td>30.3</td>\n",
              "      <td>34</td>\n",
              "      <td>945.1</td>\n",
              "      <td>NaN</td>\n",
              "      <td>16</td>\n",
              "      <td>9</td>\n",
              "      <td>Mon</td>\n",
              "    </tr>\n",
              "    <tr>\n",
              "      <th>1736</th>\n",
              "      <td>2021-09-20 16:04:51</td>\n",
              "      <td>0.029</td>\n",
              "      <td>2</td>\n",
              "      <td>30.2</td>\n",
              "      <td>34</td>\n",
              "      <td>944.8</td>\n",
              "      <td>NaN</td>\n",
              "      <td>16</td>\n",
              "      <td>9</td>\n",
              "      <td>Mon</td>\n",
              "    </tr>\n",
              "  </tbody>\n",
              "</table>\n",
              "</div>"
            ],
            "text/plain": [
              "                    Time  Conc(mg/m3)  Flow(lpm)  ...  Hour  Month  Day of Week\n",
              "1727 2021-09-20 16:03:11        0.025          2  ...    16      9          Mon\n",
              "1728 2021-09-20 16:03:21        0.026          2  ...    16      9          Mon\n",
              "1729 2021-09-20 16:03:31        0.032          2  ...    16      9          Mon\n",
              "1730 2021-09-20 16:03:41        0.029          2  ...    16      9          Mon\n",
              "1731 2021-09-20 16:03:51        0.029          2  ...    16      9          Mon\n",
              "1732 2021-09-20 16:04:01        0.031          2  ...    16      9          Mon\n",
              "1733 2021-09-20 16:04:21        0.029          2  ...    16      9          Mon\n",
              "1734 2021-09-20 16:04:31        0.030          2  ...    16      9          Mon\n",
              "1735 2021-09-20 16:04:41        0.028          2  ...    16      9          Mon\n",
              "1736 2021-09-20 16:04:51        0.029          2  ...    16      9          Mon\n",
              "\n",
              "[10 rows x 10 columns]"
            ]
          },
          "metadata": {},
          "execution_count": 122
        }
      ]
    },
    {
      "cell_type": "code",
      "metadata": {
        "colab": {
          "base_uri": "https://localhost:8080/"
        },
        "id": "GfgTJCGfaHYL",
        "outputId": "3384307c-fe4e-47a3-e66c-8acb1f869d2a"
      },
      "source": [
        "df['Conc(mg/m3)'].mean()"
      ],
      "execution_count": 20,
      "outputs": [
        {
          "output_type": "execute_result",
          "data": {
            "text/plain": [
              "0.05971329879101992"
            ]
          },
          "metadata": {},
          "execution_count": 20
        }
      ]
    },
    {
      "cell_type": "code",
      "metadata": {
        "colab": {
          "base_uri": "https://localhost:8080/",
          "height": 297
        },
        "id": "gdwlCCfoiJaJ",
        "outputId": "92165631-6a7f-4c3d-bc13-6d4285ee5955"
      },
      "source": [
        "df.groupby([df[\"Time\"].dt.hour])[\"Conc(mg/m3)\"].mean().plot(grid=True)\n",
        "plt.title('Conc(mg/m3)')\n",
        "\n",
        "plt.tight_layout()\n"
      ],
      "execution_count": 133,
      "outputs": [
        {
          "output_type": "display_data",
          "data": {
            "image/png": "[encoded data removed]",
            "text/plain": [
              "<Figure size 432x288 with 1 Axes>"
            ]
          },
          "metadata": {
            "needs_background": "light"
          }
        }
      ]
    },
    {
      "cell_type": "code",
      "metadata": {
        "colab": {
          "base_uri": "https://localhost:8080/",
          "height": 297
        },
        "id": "qGf3jfu4jU40",
        "outputId": "f60a2d3b-934c-4ec9-8d0d-933121fe3820"
      },
      "source": [
        "df.groupby([df[\"Time\"].dt.hour])[\"AT(C)\"].mean().plot(grid=True)\n",
        "plt.title('AT(C))')\n",
        "\n",
        "plt.tight_layout()\n"
      ],
      "execution_count": 21,
      "outputs": [
        {
          "output_type": "display_data",
          "data": {
            "image/png": "[encoded data removed]",
            "text/plain": [
              "<Figure size 432x288 with 1 Axes>"
            ]
          },
          "metadata": {
            "needs_background": "light"
          }
        }
      ]
    },
    {
      "cell_type": "code",
      "metadata": {
        "colab": {
          "base_uri": "https://localhost:8080/",
          "height": 297
        },
        "id": "j91xdY8fjU1-",
        "outputId": "2f089028-882c-4aa5-ae85-baa4be6dd514"
      },
      "source": [
        "df.groupby([df[\"Time\"].dt.hour])[\"RH(%)\"].mean().plot(grid=True)\n",
        "plt.title('RH(%)')\n",
        "\n",
        "plt.tight_layout()\n"
      ],
      "execution_count": 22,
      "outputs": [
        {
          "output_type": "display_data",
          "data": {
            "image/png": "[encoded data removed]",
            "text/plain": [
              "<Figure size 432x288 with 1 Axes>"
            ]
          },
          "metadata": {
            "needs_background": "light"
          }
        }
      ]
    },
    {
      "cell_type": "code",
      "metadata": {
        "colab": {
          "base_uri": "https://localhost:8080/",
          "height": 366
        },
        "id": "0znrbQvqjUy6",
        "outputId": "c25080d9-3033-419c-df42-45d47c69ee30"
      },
      "source": [
        "df.groupby([df[\"Time\"].dt.hour])[\"BP(mbar)\"].mean().plot(grid=True)\n",
        "plt.title(' \tBP(mbar')\n",
        "\n",
        "plt.tight_layout()\n"
      ],
      "execution_count": 29,
      "outputs": [
        {
          "output_type": "stream",
          "name": "stderr",
          "text": [
            "/usr/local/lib/python3.7/dist-packages/matplotlib/backends/backend_agg.py:214: RuntimeWarning: Glyph 9 missing from current font.\n",
            "  font.set_text(s, 0.0, flags=flags)\n",
            "/usr/local/lib/python3.7/dist-packages/matplotlib/backends/backend_agg.py:183: RuntimeWarning: Glyph 9 missing from current font.\n",
            "  font.set_text(s, 0, flags=flags)\n"
          ]
        },
        {
          "output_type": "display_data",
          "data": {
            "image/png": "[encoded data removed]",
            "text/plain": [
              "<Figure size 432x288 with 1 Axes>"
            ]
          },
          "metadata": {
            "needs_background": "light"
          }
        }
      ]
    },
    {
      "cell_type": "code",
      "metadata": {
        "colab": {
          "base_uri": "https://localhost:8080/",
          "height": 297
        },
        "id": "VslCxPqsX82o",
        "outputId": "fbe3943b-156b-4764-eb41-38023e3bde0a"
      },
      "source": [
        "df.groupby([df[\"Time\"].dt.hour])[\"Flow(lpm)\"].mean().plot(grid=True)\n",
        "plt.title('Flow(lpm)')\n",
        "\n",
        "plt.tight_layout()\n"
      ],
      "execution_count": 26,
      "outputs": [
        {
          "output_type": "display_data",
          "data": {
            "image/png": "[encoded data removed]",
            "text/plain": [
              "<Figure size 432x288 with 1 Axes>"
            ]
          },
          "metadata": {
            "needs_background": "light"
          }
        }
      ]
    },
    {
      "cell_type": "code",
      "metadata": {
        "id": "7ChJ91UXX8zP"
      },
      "source": [
        ""
      ],
      "execution_count": null,
      "outputs": []
    },
    {
      "cell_type": "code",
      "metadata": {
        "id": "UtE-ufasX8wn"
      },
      "source": [
        ""
      ],
      "execution_count": null,
      "outputs": []
    },
    {
      "cell_type": "code",
      "metadata": {
        "id": "vJV5_fJBX8t7"
      },
      "source": [
        ""
      ],
      "execution_count": null,
      "outputs": []
    },
    {
      "cell_type": "code",
      "metadata": {
        "id": "rlayspggRS_8"
      },
      "source": [
        ""
      ],
      "execution_count": 1,
      "outputs": []
    }
  ]
}